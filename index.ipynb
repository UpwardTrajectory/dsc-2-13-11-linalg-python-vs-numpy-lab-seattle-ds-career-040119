{
 "cells": [
  {
   "cell_type": "markdown",
   "metadata": {},
   "source": [
    "# Pure Python vs. Numpy - Lab\n",
    "\n",
    "## Introduction \n",
    "\n",
    "Numpy, Scipy and Pandas libraries provide a significant increase in computational efficiency with complex mathematical operations as compared to Python's built in arithmatic functions.  In this lab we shall calculate and compare the processing speed required for calculating a dot product both using basic arithmatic operations in Python and Numpy's `.dot()` method. \n",
    "\n",
    "## Objectives\n",
    "You will be able to:\n",
    "* Compare the performance of high dimensional matrix operations in Numpy vs. pure Python"
   ]
  },
  {
   "cell_type": "markdown",
   "metadata": {},
   "source": [
    "## Problem\n",
    "> **Write a routine to calculate the dot product between two 200 x 200 dimensional matrices using:**\n",
    "\n",
    "> **a) Pure Python**\n",
    "\n",
    "> **b) Numpy's `.dot()`**\n",
    "\n",
    "\n",
    "### Create two 200 x 200 matrices in Python and fill them with random values using `np.random.rand()` "
   ]
  },
  {
   "cell_type": "code",
   "execution_count": 2,
   "metadata": {},
   "outputs": [],
   "source": [
    "# Compare 200x200 matrix-matrix multiplication speed\n",
    "import numpy as np\n",
    "\n",
    "# Set up the variables\n",
    "k = 200\n",
    "A = np.random.randint(11, size=(k,k))\n",
    "B = np.random.randint(11, size=(k,k))"
   ]
  },
  {
   "cell_type": "markdown",
   "metadata": {},
   "source": [
    "### Pure Python\n",
    "\n",
    "* Initialize an zeros filled numpy matrix with necessary rows and columns for storing result. \n",
    "* In Python Calculate the dot product using the formula \n",
    "![](formula.png)\n",
    "* Use Python's `timeit` library to calculate the processing time. \n",
    "* [Visit this link](https://www.pythoncentral.io/time-a-python-function/) for an indepth explanation on how to time a function or routine in python. \n",
    "\n",
    "**Hint**: Use nested for loop for accessing, calculating and storing each scalar value in the result matrix."
   ]
  },
  {
   "cell_type": "code",
   "execution_count": 3,
   "metadata": {
    "scrolled": true
   },
   "outputs": [
    {
     "name": "stdout",
     "output_type": "stream",
     "text": [
      "[[ 1  5  6 ...  2  8  6]\n",
      " [ 9  0  7 ...  0  5  1]\n",
      " [ 8  7  1 ...  7  9  8]\n",
      " ...\n",
      " [ 9  7  7 ...  1  4  3]\n",
      " [ 7  9  8 ...  0 10  1]\n",
      " [ 3  3  0 ...  1  0  7]]\n",
      "----------\n",
      "[[ 2  5  4 ...  9  3  5]\n",
      " [ 9  0  1 ...  8 10  0]\n",
      " [ 5  4  9 ...  0  0  8]\n",
      " ...\n",
      " [ 4  4  9 ...  0  9  0]\n",
      " [ 0  0  3 ...  6  8  8]\n",
      " [ 7  4  3 ...  4  0 10]]\n"
     ]
    },
    {
     "data": {
      "text/plain": [
       "(200, 200)"
      ]
     },
     "execution_count": 3,
     "metadata": {},
     "output_type": "execute_result"
    }
   ],
   "source": [
    "print(A)\n",
    "print('----------')\n",
    "print(B)\n",
    "A.shape    #  A[row][column]"
   ]
  },
  {
   "cell_type": "code",
   "execution_count": 4,
   "metadata": {},
   "outputs": [
    {
     "data": {
      "text/plain": [
       "array([[4840, 4656, 5030, ..., 4952, 4618, 5290],\n",
       "       [4802, 4624, 5179, ..., 5264, 4777, 5438],\n",
       "       [4588, 4479, 4822, ..., 5003, 4616, 5346],\n",
       "       ...,\n",
       "       [4717, 4603, 4949, ..., 5407, 4491, 5184],\n",
       "       [4489, 4426, 4770, ..., 5240, 4585, 5017],\n",
       "       [4678, 4594, 4802, ..., 5167, 4412, 5156]])"
      ]
     },
     "execution_count": 4,
     "metadata": {},
     "output_type": "execute_result"
    }
   ],
   "source": [
    "A @ B"
   ]
  },
  {
   "cell_type": "code",
   "execution_count": 8,
   "metadata": {},
   "outputs": [
    {
     "name": "stdout",
     "output_type": "stream",
     "text": [
      "Pure Python Time: 0.07524758810177445 sec.\n"
     ]
    }
   ],
   "source": [
    "import timeit\n",
    "\n",
    "def matrix_mult_python(A=A, B=B):\n",
    "    return A @ B\n",
    "        \n",
    "matrix_mult_python(A, B)\n",
    "# Start the timer\n",
    "time_spent = timeit.timeit(matrix_mult_python, number=10)\n",
    "\n",
    "print('Pure Python Time:', time_spent, 'sec.')"
   ]
  },
  {
   "cell_type": "markdown",
   "metadata": {},
   "source": [
    "## Numpy \n",
    "Set the timer and calculate the time taken by `.dot()` function for multiplying A and B \n"
   ]
  },
  {
   "cell_type": "code",
   "execution_count": 12,
   "metadata": {},
   "outputs": [
    {
     "name": "stdout",
     "output_type": "stream",
     "text": [
      "Numpy Time: 0.07975384779274464 sec.\n"
     ]
    }
   ],
   "source": [
    "# start the timer\n",
    "start = None\n",
    "\n",
    "# Matrix multiplication in numpy\n",
    "def numpy_dot(A=A, B=B):\n",
    "    #return np.dot(A,B)\n",
    "    return A.dot(B)\n",
    "\n",
    "time_spent = timeit.timeit(numpy_dot, number=10)\n",
    "print('Numpy Time:', time_spent, 'sec.')"
   ]
  },
  {
   "cell_type": "markdown",
   "metadata": {},
   "source": [
    "### Your comments "
   ]
  },
  {
   "cell_type": "markdown",
   "metadata": {},
   "source": [
    "```\n",
    "```"
   ]
  },
  {
   "cell_type": "markdown",
   "metadata": {},
   "source": [
    "## Summary\n",
    "\n",
    "In this lab, we performed a quick comparison between calculating a dot product in numpy vs python built in function. We saw that Numpy is computationally much more efficient that Python code due to highly sophisticated implementation of Numpy source code. You are encouraged to always perform such tests to fully appreciate the use of an additional library in Python. "
   ]
  }
 ],
 "metadata": {
  "kernelspec": {
   "display_name": "Python 3",
   "language": "python",
   "name": "python3"
  },
  "language_info": {
   "codemirror_mode": {
    "name": "ipython",
    "version": 3
   },
   "file_extension": ".py",
   "mimetype": "text/x-python",
   "name": "python",
   "nbconvert_exporter": "python",
   "pygments_lexer": "ipython3",
   "version": "3.6.6"
  }
 },
 "nbformat": 4,
 "nbformat_minor": 2
}
